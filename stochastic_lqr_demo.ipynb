{
 "cells": [
  {
   "cell_type": "markdown",
   "id": "1f572072",
   "metadata": {},
   "source": [
    "# Stochastic LQR Demo - A Drone in the Wind\n",
    "We augment our simple planar drone model with a wind model in which the wind is a first order low pass filter with a zero-mean gaussian input. We augment the state of our quadrotor with this modeled wind state and proceed to do LQR while ignoring the wind model.\n",
    "\n",
    "## LQR while ignoring the wind:"
   ]
  },
  {
   "cell_type": "code",
   "execution_count": null,
   "id": "c0dc0e62-f201-4133-a689-1b52348dec0d",
   "metadata": {},
   "outputs": [
    {
     "name": "stdout",
     "output_type": "stream",
     "text": [
      "[0. 0. 0. 0. 0. 0. 0. 0.]\n"
     ]
    }
   ],
   "source": [
    "import numpy as np\n",
    "from scipy.optimize import approx_fprime\n",
    "import cvxpy as cp\n",
    "import control\n",
    "\n",
    "g = 9.81  # m/s^2\n",
    "m = 1.0   # kg\n",
    "ℓ = 0.3   # meters\n",
    "J = 0.2 * m * ℓ * ℓ\n",
    "wind_speed = 5.0\n",
    "\n",
    "h = 0.05  # time step (20 Hz)\n",
    "\n",
    "def quad_dynamics(x, u, v=np.zeros((2,))):\n",
    "    θ = x[2]\n",
    "    w = x[-2:] # wind state\n",
    "    dw = 2 * (wind_speed * v - w) # first order low pass filter with random noise as input for wind velocity\n",
    "    x_ddot = (1/m) * (u[0] + u[1]) * np.sin(θ) + w[0]\n",
    "    y_ddot = (1/m) * (u[0] + u[1]) * np.cos(θ) - g + w[1]\n",
    "    θ_ddot = (1/J) * (ℓ/2) * (u[1] - u[0])\n",
    "    \n",
    "    return np.array([x[3], x[4], x[5], x_ddot, y_ddot, θ_ddot, dw[0], dw[1]])\n",
    "\n",
    "def quad_dynamics_rk4(x, u, v=np.zeros((2,))):\n",
    "    # RK4 integration with zero-order hold on u\n",
    "    f1 = quad_dynamics(x, u, v)\n",
    "    f2 = quad_dynamics(x + 0.5 * h * f1, u, v)\n",
    "    f3 = quad_dynamics(x + 0.5 * h * f2, u, v)\n",
    "    f4 = quad_dynamics(x + h * f3, u, v)\n",
    "    \n",
    "    return x + (h / 6.0) * (f1 + 2*f2 + 2*f3 + f4)\n",
    "\n",
    "# Linearized dynamics for hovering\n",
    "x_hover = np.zeros(8)\n",
    "u_hover = np.array([0.5 * m * g, 0.5 * m * g])\n",
    "v = np.zeros((2,))\n",
    "print(quad_dynamics(x_hover, u_hover))\n",
    "def A_func(x):\n",
    "    return quad_dynamics_rk4(x, u_hover)\n",
    "\n",
    "def B_func(u):\n",
    "    return quad_dynamics_rk4(x_hover, u)\n",
    "\n",
    "A = approx_fprime(x_hover, A_func, np.sqrt(np.finfo(float).eps))[:6,:6]\n",
    "B = approx_fprime(u_hover, B_func, np.sqrt(np.finfo(float).eps))[:6,:6]\n",
    "\n",
    "# Time settings\n",
    "Nx = 6  # number of states\n",
    "Nu = 2  # number of controls\n",
    "Tfinal = 15.0  # final time\n",
    "Nt = int(Tfinal / h) + 1  # number of time steps\n",
    "thist = np.arange(0, h * (Nt - 1) + h, step=h)\n",
    "\n",
    "# Cost weights\n",
    "Q = np.eye(Nx)\n",
    "Q[2,2] = 100.0\n",
    "R = 0.01 * np.eye(Nu)\n",
    "\n",
    "# LQR Hover Controller\n",
    "K, P, E = control.dlqr(A, B, Q, R)\n",
    "\n",
    "def lqr_controller(t, x, K, xref):\n",
    "    return u_hover - K @ (x - xref)\n",
    "\n",
    "def cost(xhist, uhist, x_ref, Q, R):\n",
    "    cost_val = 0.5 * (xhist[:, -1].T - x_ref) @ Q @ (xhist[:, -1] - x_ref)\n",
    "    for k in range(xhist.shape[1] - 1):\n",
    "        # print(xhist[:, k].T - x_ref)\n",
    "        cost_val += 0.5 * (xhist[:, k].T - x_ref) @ Q @ (xhist[:, k] - x_ref) + 0.5 * (uhist[:,k].T @ R @ uhist[:,k])\n",
    "    print(\"Total Cost: \", cost_val)\n",
    "    return cost_val\n",
    "\n",
    "# Closed-loop simulation\n",
    "def closed_loop(x0, controller, N):\n",
    "    xhist = np.zeros((len(x0), N))\n",
    "    u0 = controller(0, x0[:6])\n",
    "    uhist = np.zeros((len(u0), N-1))\n",
    "    uhist[:, 0] = u0\n",
    "    xhist[:, 0] = x0\n",
    "    \n",
    "    for k in range(N-1):\n",
    "        v = np.random.normal(0, 1, 2)\n",
    "        uk = controller(k, xhist[:6, k])\n",
    "        uhist[:, k] = uk #np.clip(uk, umin, umax)  # enforce control limits\n",
    "        xhist[:, k+1] = quad_dynamics_rk4(xhist[:, k], uhist[:, k], v)\n",
    "    \n",
    "    return xhist, uhist"
   ]
  },
  {
   "cell_type": "code",
   "execution_count": 9,
   "id": "1cf4da3c-55d8-43d2-b136-f2d9f31484e7",
   "metadata": {},
   "outputs": [],
   "source": [
    "# Reference and initial state\n",
    "x_ref = np.array([0.0, 1.0, 0, 0, 0, 0])\n",
    "x0 = np.array([10.0, 2.0, 0.0, 0, 0, 0, 0, 0])\n",
    "\n",
    "# Simulate closed-loop responses\n",
    "xhist1, uhist1 = closed_loop(x0, lambda t, x: lqr_controller(t, x, K, x_ref), Nt)\n",
    "# xhist2, uhist2 = closed_loop(x0, lambda t, x: mpc_controller(t, x, x_ref), Nt)"
   ]
  },
  {
   "cell_type": "markdown",
   "id": "26e400a3",
   "metadata": {},
   "source": [
    "As expected, we get a rather jittery outcome:"
   ]
  },
  {
   "cell_type": "code",
   "execution_count": null,
   "id": "420e3495-79c0-42b2-bb16-e872831ec3d0",
   "metadata": {},
   "outputs": [
    {
     "data": {
      "image/png": "[encoded data removed]",
      "text/plain": [
       "<Figure size 640x480 with 1 Axes>"
      ]
     },
     "metadata": {},
     "output_type": "display_data"
    },
    {
     "name": "stdout",
     "output_type": "stream",
     "text": [
      "Total Cost:  2198.002927700408\n"
     ]
    }
   ],
   "source": [
    "import matplotlib.pyplot as plt\n",
    "\n",
    "plt.plot(xhist1[:3,:].T)\n",
    "plt.show()\n",
    "cost1 = cost(xhist1[:6,:],uhist1, x_ref, Q, R)"
   ]
  },
  {
   "cell_type": "code",
   "execution_count": 13,
   "id": "54e895e6-9374-471e-bd36-9bb8441748cf",
   "metadata": {},
   "outputs": [],
   "source": [
    "from pathlib import Path\n",
    "import mujoco\n",
    "import mujoco.viewer\n",
    "import time\n",
    "def simulate(xhist):\n",
    "    model_name = f\"scene\"\n",
    "    model_path = Path(\"mujoco_models/skydio_x2\") / (str(model_name) + str(\".xml\"))\n",
    "        # Load the model and data\n",
    "    model = mujoco.MjModel.from_xml_path(str(model_path.absolute()))\n",
    "\n",
    "    data = mujoco.MjData(model)\n",
    "    data.qpos[1] = xhist[0,0]\n",
    "    data.qpos[2] = xhist[1,0]\n",
    "    data.qpos[4] = xhist[2,0]\n",
    "    i = 0\n",
    "    start_time = time.time()\n",
    "    with mujoco.viewer.launch_passive(model, data, show_left_ui=False, show_right_ui=False) as viewer:\n",
    "        viewer.cam.azimuth = 140\n",
    "        viewer.cam.elevation = -20\n",
    "        viewer.cam.distance =  8\n",
    "        viewer.cam.lookat = np.array([1.0 , -0.8 , 1.1])\n",
    "        while viewer.is_running():\n",
    "            if i < Nt-1:\n",
    "                i+=1\n",
    "            step_start = time.time()\n",
    "            first_time = time.time()\n",
    "\n",
    "            # mj_step can be replaced with code that also evaluates\n",
    "            # a policy and applies a control signal before stepping the physics.\n",
    "            # input(\"wait\")\n",
    "            mujoco.mj_step(model, data)\n",
    "            \n",
    "            data.qpos[0] = 0\n",
    "            data.qpos[1] = xhist[0,i]\n",
    "            data.qpos[2] = xhist[1,i]\n",
    "            data.qpos[4] = xhist[2,i]\n",
    "            viewer.sync()\n",
    "            time_until_next_step = 0.05 - (time.time() - step_start)\n",
    "            if time_until_next_step > 0:\n",
    "                # print(time_until_next_step)\n",
    "                time.sleep(time_until_next_step)\n",
    "            # Pick up changes to the physics state, apply perturbations, update options from GUI.\n",
    "simulate(xhist1)"
   ]
  },
  {
   "cell_type": "markdown",
   "id": "ca91bfc2",
   "metadata": {},
   "source": [
    "## LQR accounting for the wind dynamics model\n",
    "Now we account for the wind. The punchline here is that we still ignore the fact that the wind is random - according to our LQR, it is deterministic. BUT, it turns out that this extra knowledge allows the controller to be more robust to all wind that obeys similar dynamics. "
   ]
  },
  {
   "cell_type": "code",
   "execution_count": 14,
   "id": "9759f1d0-4e77-4197-bd93-f7e77a287d34",
   "metadata": {},
   "outputs": [],
   "source": [
    "A = approx_fprime(x_hover, A_func, np.sqrt(np.finfo(float).eps))\n",
    "B = approx_fprime(u_hover, B_func, np.sqrt(np.finfo(float).eps))\n",
    "\n",
    "# Time settings\n",
    "Nx = 8  # number of states\n",
    "\n",
    "# Cost weights\n",
    "Q = np.eye(Nx)\n",
    "Q[2,2] = 100.0\n",
    "R = 0.01 * np.eye(Nu)\n",
    "\n",
    "# LQR Hover Controller\n",
    "K, P, E = control.dlqr(A, B, Q, R)\n",
    "\n",
    "# Closed-loop simulation\n",
    "def closed_loop_wind(x0, controller, N):\n",
    "    xhist = np.zeros((len(x0), N))\n",
    "    u0 = controller(0, x0[:])\n",
    "    uhist = np.zeros((len(u0), N-1))\n",
    "    uhist[:, 0] = u0\n",
    "    xhist[:, 0] = x0\n",
    "    \n",
    "    for k in range(N-1):\n",
    "        v = np.random.normal(0, 1, 2)\n",
    "        uk = controller(k, xhist[:, k])\n",
    "        uhist[:, k] = uk #np.clip(uk, umin, umax)  # enforce control limits\n",
    "        xhist[:, k+1] = quad_dynamics_rk4(xhist[:, k], uhist[:, k], v)\n",
    "    \n",
    "    return xhist, uhist\n",
    "\n",
    "# Reference and initial state\n",
    "x_ref = np.array([0.0, 1.0, 0, 0, 0, 0, 0, 0])\n",
    "x0 = np.array([10.0, 2.0, 0.0, 0, 0, 0, 0, 0])\n",
    "\n",
    "# Simulate closed-loop responses\n",
    "xhist2, uhist2 = closed_loop_wind(x0, lambda t, x: lqr_controller(t, x, K, x_ref), Nt)\n",
    "# xhist2, uhist2 = closed_loop(x0, lambda t, x: mpc_controller(t, x, x_ref), Nt)"
   ]
  },
  {
   "cell_type": "code",
   "execution_count": 15,
   "id": "3747f31d",
   "metadata": {},
   "outputs": [
    {
     "data": {
      "image/png": "[encoded data removed]",
      "text/plain": [
       "<Figure size 640x480 with 1 Axes>"
      ]
     },
     "metadata": {},
     "output_type": "display_data"
    },
    {
     "name": "stdout",
     "output_type": "stream",
     "text": [
      "Total Cost:  2046.9464905542131\n"
     ]
    }
   ],
   "source": [
    "import matplotlib.pyplot as plt\n",
    "# plt.plot(xhist2[:,:].T)\n",
    "# plt.show()\n",
    "\n",
    "plt.plot(xhist2[:3,:].T)\n",
    "plt.show()\n",
    "cost2 = cost(xhist2[:6,:], uhist2, x_ref[:6], Q[:6,:6], R)\n"
   ]
  },
  {
   "cell_type": "code",
   "execution_count": 16,
   "id": "bc5462a9",
   "metadata": {},
   "outputs": [],
   "source": [
    "simulate(xhist2)"
   ]
  },
  {
   "cell_type": "code",
   "execution_count": null,
   "id": "7082ae09",
   "metadata": {},
   "outputs": [],
   "source": []
  }
 ],
 "metadata": {
  "kernelspec": {
   "display_name": "nonlinear",
   "language": "python",
   "name": "python3"
  },
  "language_info": {
   "codemirror_mode": {
    "name": "ipython",
    "version": 3
   },
   "file_extension": ".py",
   "mimetype": "text/x-python",
   "name": "python",
   "nbconvert_exporter": "python",
   "pygments_lexer": "ipython3",
   "version": "3.13.1"
  }
 },
 "nbformat": 4,
 "nbformat_minor": 5
}
