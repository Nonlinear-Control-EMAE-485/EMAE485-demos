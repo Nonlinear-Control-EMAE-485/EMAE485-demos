{
 "cells": [
  {
   "cell_type": "markdown",
   "id": "4960d4b7-159b-438d-b4d0-e19e74df83be",
   "metadata": {},
   "source": [
    "# Model Predictive Control\n",
    "In this notebook, we walk through a demo of the receding horizon MPC problem for the simplified [planar quadrotor](https://underactuated.csail.mit.edu/acrobot.html#section3). MPC in the linear setting is essentially a direct extension of LQR that allows us to gracefully incorporate state and input constraints. The essential idea is that we reduce our long term control problem to a horizon, optimize over that horizon, apply the control input we have calculated for the first step (the \"now\" step), and then push our horizon forward and repeat the process. This method of control is ubiquitous and is present in everything from chemical processing plants, self-driving cars, autonomous rocket-landings, and Boston Dynamics robots doing parkour."
   ]
  },
  {
   "cell_type": "code",
   "execution_count": 6,
   "id": "2704fbfe-a6b5-4ada-912c-cb5e3cb17a5f",
   "metadata": {},
   "outputs": [],
   "source": [
    "import numpy as np\n",
    "from scipy.optimize import approx_fprime\n",
    "import cvxpy as cp\n",
    "import control\n",
    "import scipy\n"
   ]
  },
  {
   "cell_type": "markdown",
   "id": "b76ede1a-0f2b-4999-a010-110ef5687fe0",
   "metadata": {},
   "source": [
    "## Dynamics\n",
    "\n",
    "Don't worry about this cell. Here, we simply write down our dynamics for a planar quadrotor and discretize them using a fourth order [Runge-Kutta method](https://en.wikipedia.org/wiki/Runge%E2%80%93Kutta_methods) (if you don't know what that means, don't worry about it). We are going to linearize for a steady state hover at pitch $\\theta = 0$ and return our discretized, linear dynamics approximations $A,B$."
   ]
  },
  {
   "cell_type": "code",
   "execution_count": 7,
   "id": "4ce3ef01-41fd-451e-b157-f36ee3356057",
   "metadata": {},
   "outputs": [
    {
     "name": "stdout",
     "output_type": "stream",
     "text": [
      "[0. 0. 0. 0. 0. 0.]\n"
     ]
    }
   ],
   "source": [
    "g = 9.81  # m/s^2\n",
    "m = 1.0   # kg\n",
    "ℓ = 0.3   # meters\n",
    "J = 0.2 * m * ℓ * ℓ\n",
    "\n",
    "# Thrust limits\n",
    "umin = np.array([0.2 * m * g, 0.2 * m * g])\n",
    "umax = np.array([0.6 * m * g, 0.6 * m * g])\n",
    "\n",
    "h = 0.05  # time step (20 Hz)\n",
    "\n",
    "def quad_dynamics(x, u):\n",
    "    θ = x[2]\n",
    "    \n",
    "    x_ddot = (1/m) * (u[0] + u[1]) * np.sin(θ)\n",
    "    y_ddot = (1/m) * (u[0] + u[1]) * np.cos(θ) - g\n",
    "    θ_ddot = (1/J) * (ℓ/2) * (u[1] - u[0])\n",
    "    \n",
    "    return np.array([x[3], x[4], x[5], x_ddot, y_ddot, θ_ddot])\n",
    "\n",
    "def quad_dynamics_rk4(x, u):\n",
    "    # RK4 integration with zero-order hold on u\n",
    "    f1 = quad_dynamics(x, u)\n",
    "    f2 = quad_dynamics(x + 0.5 * h * f1, u)\n",
    "    f3 = quad_dynamics(x + 0.5 * h * f2, u)\n",
    "    f4 = quad_dynamics(x + h * f3, u)\n",
    "    \n",
    "    return x + (h / 6.0) * (f1 + 2*f2 + 2*f3 + f4)\n",
    "\n",
    "# Linearized dynamics for hovering\n",
    "x_hover = np.zeros(6)\n",
    "u_hover = np.array([0.5 * m * g, 0.5 * m * g])\n",
    "print(quad_dynamics(x_hover, u_hover))\n",
    "def A_func(x):\n",
    "    return quad_dynamics_rk4(x, u_hover)\n",
    "\n",
    "def B_func(u):\n",
    "    return quad_dynamics_rk4(x_hover, u)\n",
    "\n",
    "A = approx_fprime(x_hover, A_func, np.sqrt(np.finfo(float).eps))\n",
    "B = approx_fprime(u_hover, B_func, np.sqrt(np.finfo(float).eps))"
   ]
  },
  {
   "cell_type": "markdown",
   "id": "00c8938e-330b-4636-ba73-f0f265979c84",
   "metadata": {},
   "source": [
    "## Time and Cost\n",
    "Specify our total time (10 seconds), and our time horizon $N_h$. Here it is 20 steps, or 1 second given that $h = 0.05$. \n",
    "\n",
    "We also specify our costs. Here, we place a large penalty on pitch variation. The rationale behind this is to prevent our controller from deviating too far from the linearized approximation of the dynamics that we calculated above."
   ]
  },
  {
   "cell_type": "code",
   "execution_count": 14,
   "id": "3f645d07-7105-4400-bba9-39b13d522ff1",
   "metadata": {},
   "outputs": [],
   "source": [
    "# Time settings\n",
    "Nx = 6  # number of states\n",
    "Nu = 2  # number of controls\n",
    "Tfinal = 10.0  # final time\n",
    "Nt = int(Tfinal / h) + 1  # number of time steps\n",
    "thist = np.arange(0, h * (Nt - 1) + h, step=h)\n",
    "Nh = 20\n",
    "\n",
    "u_hover_vec = np.repeat(u_hover, Nh-1)\n",
    "# Cost weights\n",
    "Q = np.eye(Nx)\n",
    "Q[2,2] = 200 # heavily penalize pitch variation\n",
    "R = 0.01 * np.eye(Nu)\n",
    "Qf = np.eye(Nx)\n",
    "\n",
    "def cost(xhist, uhist):\n",
    "    cost_val = 0.5 * (xhist[:, -1].T - x_ref) @ Qf @ (xhist[:, -1] - x_ref)\n",
    "    for k in range(xhist.shape[1] - 1):\n",
    "        # print(xhist[:, k].T - x_ref)\n",
    "        cost_val += 0.5 * (xhist[:, k].T - x_ref) @ Q @ (xhist[:, k] - x_ref) + 0.5 * (uhist[:,k].T @ R @ uhist[:,k])\n",
    "    print(cost_val)\n",
    "    return cost_val"
   ]
  },
  {
   "cell_type": "markdown",
   "id": "4215bda7-5029-469d-af81-9e22cf535977",
   "metadata": {},
   "source": [
    "## MPC \n",
    "We first quickly write down a LQR controller for comparison's sake. \n",
    "\n",
    "Next, we specifiy the MPC controller. We use the CVXPY library for clarity. We solve the following optimization problem:\n",
    "\n",
    "\\begin{aligned}\n",
    "\\min_{x_{1:N_h}, u_{1:N_h}} \\quad & x_{N_h}^T Q_f x_{N_h} \\sum_{n=1}^{N_h-1} x_n^T Q x_n + u_n^T R u_n\\\\\n",
    "\\textrm{s.t.} \\quad & x_{n+1} = Ax_n + Bu_n \\quad \\forall n=1:N_h-1\\\\\n",
    "  & u_{\\mathrm{min}} - u_{\\mathrm{hover}} \\leq u_n \\leq u_{\\mathrm{max}} - u_{\\mathrm{hover}} \\quad \\forall n=1:N_h\\\\\n",
    "  & ||\\theta_n|| \\leq 0.2 \\quad \\forall n=1:N_h\\\\\n",
    "\\end{aligned}\n",
    "\n",
    "We can relatively straightforwardly write the sum in the cost function as a big matrix. In the following cell, we produce large matrices that allow us to do that. Addtionally, we produce a matrix $I_3$ that picks out $\\theta_n$ from our big long vector of state variables. "
   ]
  },
  {
   "cell_type": "code",
   "execution_count": 15,
   "id": "c56a5abc-a1f2-4a5c-865b-2e8071e34ec9",
   "metadata": {},
   "outputs": [],
   "source": [
    "# LQR Hover Controller\n",
    "K, P, E = control.dlqr(A, B, Q, R)\n",
    "\n",
    "def lqr_controller(t, x, K, xref):\n",
    "    return u_hover - K @ (x - xref)\n",
    "\n",
    "Q_stage = np.kron(np.eye(Nh-1), Q)  # shape: (n_x*N, n_x*N)\n",
    "Q_big = scipy.linalg.block_diag(Q_stage, P)  # shape: (n_x*(N+1), n_x*(N+1))\n",
    "R_big = np.kron(np.eye(Nh), R)  # shape: (n_u*N, n_u*N)\n",
    "I_3 = np.kron(np.eye(Nh), np.array([[0, 0, 1, 0, 0, 0]]) )\n"
   ]
  },
  {
   "cell_type": "code",
   "execution_count": 16,
   "id": "c0dc0e62-f201-4133-a689-1b52348dec0d",
   "metadata": {},
   "outputs": [],
   "source": [
    "# MPC Controller using CVXPY\n",
    "def mpc_controller(t, x, xref):\n",
    "    if x.ndim > 1:\n",
    "        x0 = x[:,0]\n",
    "    else:\n",
    "        x0 = x\n",
    "    x = cp.Variable((Nx * (Nh), 1))\n",
    "    \n",
    "    u = cp.Variable((Nu * (Nh), 1))\n",
    "    xref_vec = np.tile(xref, Nh).reshape(-1,1)\n",
    "    \n",
    "    constraints = []\n",
    "    cost_terms = []\n",
    "\n",
    "\n",
    "    # Accumulate calculate costs for the objective function\n",
    "    cost_expr = cp.quad_form(x - xref_vec, Q_big) + cp.quad_form(u, R_big)\n",
    "    objective = cp.Minimize(cost_expr)\n",
    "    \n",
    "\n",
    "    # Iterate along the horizon and recursively add the linearized dynamics contraints\n",
    "    for i in range(Nh-1):\n",
    "        if i == 0:\n",
    "            constraints.append(A @ x0.reshape(-1,1) + B @ u[0:Nu] == x[0:Nx])\n",
    "        else:\n",
    "            x_prev = x[(i-1)*Nx : i*Nx]\n",
    "            x_curr = x[i*Nx : (i+1)*Nx]\n",
    "            u_curr = u[i*Nu : (i+1)*Nu]\n",
    "            constraints.append(A @ x_prev + B @ u_curr == x_curr)\n",
    "\n",
    "\n",
    "    # Add thrust constraints\n",
    "    constraints.append(np.ones((Nu * (Nh),1))*(0.2*m*g - u_hover) <= u)\n",
    "    constraints.append(np.ones((Nu * (Nh),1))*(0.6*m*g - u_hover) >= u)\n",
    "\n",
    "    # Add pitch constraints\n",
    "    constraints.append(np.ones((Nh,1))*0.2 >= I_3 @ x)\n",
    "    constraints.append(- np.ones((Nh,1))*0.2 <= I_3 @ x)\n",
    "\n",
    "    # solve the problem\n",
    "    problem = cp.Problem(objective, constraints)\n",
    "    problem.solve(solver=cp.OSQP, verbose=False, eps_abs=1e-8, eps_rel=1e-8, max_iter=100000)\n",
    "\n",
    "    # make sure we return u + u_hover (we originally linearized about u_hover)\n",
    "    return u_hover + np.squeeze(u.value[:Nu])\n",
    "\n"
   ]
  },
  {
   "cell_type": "markdown",
   "id": "28d0571c-a66a-45e3-96aa-656a495f3ff1",
   "metadata": {},
   "source": [
    "## Closed Loop Simulation\n",
    "\n",
    "We write a function to simply forward simulate given one of our two controller options"
   ]
  },
  {
   "cell_type": "code",
   "execution_count": 17,
   "id": "88d81de2-7b26-4c44-abde-1c7ecdf7a242",
   "metadata": {},
   "outputs": [],
   "source": [
    "\n",
    "# Closed-loop simulation\n",
    "def closed_loop(x0, controller, N):\n",
    "    xhist = np.zeros((len(x0), N))\n",
    "    u0 = controller(1, x0)\n",
    "    uhist = np.zeros((len(u0), N-1))\n",
    "    uhist[:, 0] = u0\n",
    "    xhist[:, 0] = x0\n",
    "    \n",
    "    for k in range(N-1):\n",
    "        \n",
    "        uk = controller(k, xhist[:, k])\n",
    "        uhist[:, k] = uk #np.clip(uk, umin, umax)  # enforce control limits\n",
    "        xhist[:, k+1] = quad_dynamics_rk4(xhist[:, k], uhist[:, k])\n",
    "    \n",
    "    return xhist, uhist"
   ]
  },
  {
   "cell_type": "markdown",
   "id": "e35358f1-72e3-4acd-bb47-4e927333fc4d",
   "metadata": {},
   "source": [
    "## Run the Simulation\n",
    "\n",
    "We simulate with both LQR and MPC so we can compare the difference"
   ]
  },
  {
   "cell_type": "code",
   "execution_count": 18,
   "id": "1cf4da3c-55d8-43d2-b136-f2d9f31484e7",
   "metadata": {},
   "outputs": [],
   "source": [
    "# Reference and initial state\n",
    "x_ref = np.array([0.0, 1.0, 0, 0, 0, 0])\n",
    "x0 = np.array([10.0, 2.0, 0.0, 0, 0, 0])\n",
    "\n",
    "# Simulate closed-loop responses\n",
    "xhist1, uhist1 = closed_loop(x0, lambda t, x: lqr_controller(t, x, K, x_ref), Nt)\n",
    "xhist2, uhist2 = closed_loop(x0, lambda t, x: mpc_controller(t, x, x_ref), Nt)"
   ]
  },
  {
   "cell_type": "markdown",
   "id": "232ffe6d-95a6-4807-b655-882f461e3dc3",
   "metadata": {},
   "source": [
    "## Plotting"
   ]
  },
  {
   "cell_type": "code",
   "execution_count": 25,
   "id": "420e3495-79c0-42b2-bb16-e872831ec3d0",
   "metadata": {},
   "outputs": [
    {
     "data": {
      "image/png": "[encoded data removed]",
      "text/plain": [
       "<Figure size 640x480 with 1 Axes>"
      ]
     },
     "metadata": {},
     "output_type": "display_data"
    },
    {
     "data": {
      "image/png": "[encoded data removed]",
      "text/plain": [
       "<Figure size 640x480 with 1 Axes>"
      ]
     },
     "metadata": {},
     "output_type": "display_data"
    }
   ],
   "source": [
    "import matplotlib.pyplot as plt\n",
    "times = np.arange(0, (Nt ) * h, h)\n",
    "plt.plot(times, xhist2[:,:].T)\n",
    "plt.xlabel(\"Time (s)\")\n",
    "plt.ylabel(\"State\")\n",
    "plt.title(\"MPC\")\n",
    "plt.show()\n",
    "\n",
    "plt.plot(times, xhist1.T)\n",
    "plt.xlabel(\"Time (s)\")\n",
    "plt.ylabel(\"State\")\n",
    "plt.title(\"LQR\")\n",
    "plt.show()\n",
    "\n"
   ]
  },
  {
   "cell_type": "markdown",
   "id": "75bb3ad2-8c16-4d92-a499-4dec776870d5",
   "metadata": {},
   "source": [
    "## Display in Mujoco for a nice visualization"
   ]
  },
  {
   "cell_type": "code",
   "execution_count": 26,
   "id": "54e895e6-9374-471e-bd36-9bb8441748cf",
   "metadata": {},
   "outputs": [
    {
     "name": "stderr",
     "output_type": "stream",
     "text": [
      "2025-02-27 17:17:53.678 mjpython[51136:12644628] +[IMKClient subclass]: chose IMKClient_Modern\n",
      "2025-02-27 17:17:53.678 mjpython[51136:12644628] +[IMKInputSession subclass]: chose IMKInputSession_Modern\n"
     ]
    }
   ],
   "source": [
    "from pathlib import Path\n",
    "import mujoco\n",
    "import mujoco.viewer\n",
    "import time\n",
    "\n",
    "model_name = f\"scene\"\n",
    "model_path = Path(\"mujoco_models/skydio_x2\") / (str(model_name) + str(\".xml\"))\n",
    "    # Load the model and data\n",
    "model = mujoco.MjModel.from_xml_path(str(model_path.absolute()))\n",
    "\n",
    "\n",
    "data = mujoco.MjData(model)\n",
    "data.qpos[1] = xhist2[0,0]\n",
    "data.qpos[2] = xhist2[1,0]\n",
    "data.qpos[4] = xhist2[2,0]\n",
    "i = 0\n",
    "start_time = time.time()\n",
    "with mujoco.viewer.launch_passive(model, data, show_left_ui=False, show_right_ui=False) as viewer:\n",
    "    viewer.cam.azimuth = 140\n",
    "    viewer.cam.elevation = -20\n",
    "    viewer.cam.distance =  8\n",
    "    viewer.cam.lookat = np.array([1.0 , -0.8 , 1.1])\n",
    "    while viewer.is_running():\n",
    "        if i < Nt:\n",
    "            i+=1\n",
    "        step_start = time.time()\n",
    "        first_time = time.time()\n",
    "\n",
    "        # mj_step can be replaced with code that also evaluates\n",
    "        # a policy and applies a control signal before stepping the physics.\n",
    "        # input(\"wait\")\n",
    "        mujoco.mj_step(model, data)\n",
    "            \n",
    "        data.qpos[1] = xhist2[0,i]\n",
    "        data.qpos[2] = xhist2[1,i]\n",
    "        data.qpos[4] = xhist2[2,i]\n",
    "        viewer.sync()\n",
    "        time_until_next_step = 0.05 - (time.time() - step_start)\n",
    "        if time_until_next_step > 0:\n",
    "            # print(time_until_next_step)\n",
    "            time.sleep(time_until_next_step)\n",
    "        # Pick up changes to the physics state, apply perturbations, update options from GUI.\n"
   ]
  },
  {
   "cell_type": "code",
   "execution_count": null,
   "id": "9759f1d0-4e77-4197-bd93-f7e77a287d34",
   "metadata": {},
   "outputs": [],
   "source": []
  }
 ],
 "metadata": {
  "kernelspec": {
   "display_name": "Python (Mujoco)",
   "language": "python",
   "name": "mujoco"
  },
  "language_info": {
   "codemirror_mode": {
    "name": "ipython",
    "version": 3
   },
   "file_extension": ".py",
   "mimetype": "text/x-python",
   "name": "python",
   "nbconvert_exporter": "python",
   "pygments_lexer": "ipython3",
   "version": "3.13.1"
  }
 },
 "nbformat": 4,
 "nbformat_minor": 5
}
