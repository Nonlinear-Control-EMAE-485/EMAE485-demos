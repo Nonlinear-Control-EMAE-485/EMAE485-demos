{
 "cells": [
  {
   "cell_type": "markdown",
   "metadata": {},
   "source": [
    "# Underactuated Control of Linearized Systems\n",
    "In the following, we will cover several basic approaches to control of underactuated systems that rely on several methods of linearization that we have already covered in the course. We will use several systems to illustrate these concepts."
   ]
  },
  {
   "cell_type": "code",
   "execution_count": 2,
   "metadata": {},
   "outputs": [],
   "source": [
    "import matplotlib.pyplot as plt\n",
    "import mujoco\n",
    "import mujoco.viewer\n",
    "import numpy as np\n",
    "import os\n",
    "from pathlib import Path\n",
    "import time\n",
    "import control"
   ]
  },
  {
   "cell_type": "markdown",
   "metadata": {},
   "source": [
    "First, let's look at the [acrobot](https://underactuated.mit.edu/acrobot.html#section1). Import the mujoco model. If you try to run the following cell more than once, you will get an error because mujoco does not want to redefine the model object."
   ]
  },
  {
   "cell_type": "code",
   "execution_count": 3,
   "metadata": {},
   "outputs": [],
   "source": [
    "# Configure MuJoCo to use the EGL rendering backend (requires GPU)\n",
    "os.environ[\"MUJOCO_GL\"] = \"egl\"\n",
    "\n",
    "model_name = f\"double_pendulum\"\n",
    "\n",
    "q_ref = [0.5, 1.0]\n",
    "model_path = Path(\"mujoco_models\") / (str(model_name) + str(\".xml\"))\n",
    "    # Load the model and data\n",
    "model = mujoco.MjModel.from_xml_path(str(model_path.absolute()))"
   ]
  },
  {
   "cell_type": "markdown",
   "metadata": {},
   "source": [
    "## Balancing an underactuated pendulum\n",
    "For the following exercise, we will look at balancing the acrobot in the vertical position, a classic problem in nonlinear control. The most basic way to analyze and attack this problem is with tools from linearization.\n",
    "### Linearization\n",
    "As we have discussed, it is always possible to linearize a nonlinear system using a Taylor expansion about some operating point. After doing so, we have the following dynamics: $x = Ax + Bu$. \n",
    "### Controllability\n",
    "Before designing controllers, a reasonable question to ask is if our control goal is even possible. As it turns out, we have a general method to ask an answer this question. In general, a system is controllable if it is possible to construct an unconstrained input signal, \n",
    "$u(t)$, which will move the system from any initial state to any final state in a finite interval of time. \n",
    "\n",
    "As it turns out, for LTI systems we have an easy way of finding the controllability condition. If the $\\mathrm{rank}(R) = n$, where $n$ is the dimension of the state variable and R is $R = [B \\quad AB \\quad A^2B \\quad ... \\quad A^{n-1}B]$, then the system is controllable (see [Wikipedia's article](https://en.wikipedia.org/wiki/Controllability#Continuous_linear_time-invariant_(LTI)_systems) on the topic for details).\n",
    "\n",
    "For the acrobot in the vertical position:"
   ]
  },
  {
   "cell_type": "code",
   "execution_count": 4,
   "metadata": {},
   "outputs": [
    {
     "name": "stdout",
     "output_type": "stream",
     "text": [
      "[[   0.           -4.26606608    0.         -112.46924591]\n",
      " [   0.           13.64757486    0.          349.75265927]\n",
      " [  -4.26606608    0.         -112.46924591    0.        ]\n",
      " [  13.64757486    0.          349.75265927    0.        ]]\n",
      "True\n"
     ]
    }
   ],
   "source": [
    "def acrobot_controllability(model):\n",
    "    data = mujoco.MjData(model)\n",
    "    data.qpos[0] = 0.0\n",
    "    data.qpos[1] = 0.0\n",
    "    # parameters\n",
    "    g = 9.81\n",
    "    m1 = 1\n",
    "    m2 = m1\n",
    "    lc1 = 0.25\n",
    "    lc2 = lc1\n",
    "    l1 = 0.5\n",
    "    l2 = l1\n",
    "    \n",
    "    # get M inverse\n",
    "    mujoco.mj_step(model, data)\n",
    "    M_inv = np.zeros((model.nv, model.nv))\n",
    "    mujoco.mj_solveM(model, data, M_inv, np.eye(model.nv))\n",
    "\n",
    "    # calculate linearized model\n",
    "    dG_dq = np.array([[g * (m1 * lc1 + m2 * l1 + m2 * lc2), m2 * g * lc2],[m2 * g * lc2, m2 * g * lc2]])\n",
    "    A = np.block([\n",
    "        [np.zeros((2,2)), np.eye(2)],\n",
    "        [M_inv @ dG_dq, np.zeros((2,2))]])\n",
    "    B = np.block([\n",
    "        [np.zeros((2,1))],\n",
    "        [M_inv @ [[0], [1]]]])\n",
    "    # use control toolbox to calculate controllability matrix\n",
    "    return control.ctrb(A,B)\n",
    "\n",
    "# output the rank\n",
    "print(acrobot_controllability(model))\n",
    "print(np.linalg.matrix_rank(acrobot_controllability(model)) == 4)\n"
   ]
  },
  {
   "cell_type": "markdown",
   "metadata": {},
   "source": [
    "From the above, we can see that $\\mathrm{rank}(R) = 4$ for the upright position, which implies that we can achieve this control goal. But how to do it?"
   ]
  },
  {
   "cell_type": "markdown",
   "metadata": {},
   "source": [
    "### Linear Quadratic Regulator (LQR)\n",
    "If we linearize our dynamics around a set point, (e.g. where the pendulum is balanced in the vertical position), we can use a tool from optimal control theory called LQR. We will cover this in detail soon. Using our linearized model, we can easily write a controller that uses the Python Control Systems Library implementation of LQR to achieve the balancing task:"
   ]
  },
  {
   "cell_type": "code",
   "execution_count": 5,
   "metadata": {},
   "outputs": [],
   "source": [
    "def controller(model, data):\n",
    "    #put the controller here. This function is called inside the simulation.\n",
    "    #pass\n",
    "    g = 9.81\n",
    "    m1 = 1\n",
    "    m2 = m1\n",
    "    lc1 = 0.25\n",
    "    lc2 = lc1\n",
    "    l1 = 0.5\n",
    "    l2 = l1\n",
    "    \n",
    "    M_inv = np.zeros((model.nv, model.nv))\n",
    "    mujoco.mj_solveM(model, data, M_inv, np.eye(model.nv))\n",
    "    \n",
    "    dG_dq = np.array([[g * (m1 * lc1 + m2 * l1 + m2 * lc2), m2 * g * lc2],[m2 * g * lc2, m2 * g * lc2]])\n",
    "    A = np.block([\n",
    "        [np.zeros((2,2)), np.eye(2)],\n",
    "        [M_inv @ dG_dq, np.zeros((2,2))]])\n",
    "    B = np.block([\n",
    "        [np.zeros((2,1))],\n",
    "        [M_inv @ [[0], [1]]]])\n",
    "    Q = np.diag([10,10,1,1])\n",
    "    R = 1\n",
    "    K, S, E = control.lqr(A, B, Q, R)\n",
    "    x = np.hstack((data.qpos, data.qvel))\n",
    "    u = - K @ x\n",
    "    data.ctrl[0] = u[0]"
   ]
  },
  {
   "cell_type": "code",
   "execution_count": 6,
   "metadata": {},
   "outputs": [],
   "source": [
    "def simulate_model(model):\n",
    "    \n",
    "    \n",
    "    data = mujoco.MjData(model)\n",
    "    data.qpos[0] = 0.0\n",
    "    data.qpos[1] = 0.1\n",
    "    model.dof_damping[:] = 0.05\n",
    "\n",
    "    mujoco.set_mjcb_control(controller)\n",
    "\n",
    "    with mujoco.viewer.launch_passive(model, data) as viewer:\n",
    "        viewer.cam.azimuth = 90\n",
    "        viewer.cam.elevation = 5\n",
    "        viewer.cam.distance =  8\n",
    "        viewer.cam.lookat = np.array([0.0 , 0.0 , 0.0])\n",
    "        while viewer.is_running():\n",
    "            step_start = time.time()\n",
    "            first_time = time.time()\n",
    "\n",
    "            # mj_step can be replaced with code that also evaluates\n",
    "            # a policy and applies a control signal before stepping the physics.\n",
    "            mujoco.mj_step(model, data)\n",
    "            \n",
    "\n",
    "            # Pick up changes to the physics state, apply perturbations, update options from GUI.\n",
    "            viewer.sync()\n",
    "\n",
    "            # Rudimentary time keeping, will drift relative to wall clock.\n",
    "            time_until_next_step = model.opt.timestep - (time.time() - step_start)\n",
    "            if time_until_next_step > 0:\n",
    "                time.sleep(time_until_next_step)"
   ]
  },
  {
   "cell_type": "code",
   "execution_count": 7,
   "metadata": {},
   "outputs": [
    {
     "name": "stderr",
     "output_type": "stream",
     "text": [
      "2025-02-25 13:39:45.886 mjpython[9425:11851585] +[IMKClient subclass]: chose IMKClient_Modern\n",
      "2025-02-25 13:39:45.886 mjpython[9425:11851585] +[IMKInputSession subclass]: chose IMKInputSession_Modern\n"
     ]
    }
   ],
   "source": [
    "if __name__ == \"__main__\":\n",
    "    # Simulate the model\n",
    "    simulate_model(model)"
   ]
  },
  {
   "cell_type": "markdown",
   "metadata": {},
   "source": [
    "You can play around with the initial conditions and physical parameters to get an idea of this controller's robustness. As you can see, as long as we are close to the upright position, LQR does a fantastic job. \n",
    "\n",
    "Unfortunately, this controller won't get us up to the fixed point. For that we will need different tools."
   ]
  },
  {
   "cell_type": "code",
   "execution_count": null,
   "metadata": {},
   "outputs": [],
   "source": []
  }
 ],
 "metadata": {
  "kernelspec": {
   "display_name": "Python (Mujoco)",
   "language": "python",
   "name": "mujoco"
  },
  "language_info": {
   "codemirror_mode": {
    "name": "ipython",
    "version": 3
   },
   "file_extension": ".py",
   "mimetype": "text/x-python",
   "name": "python",
   "nbconvert_exporter": "python",
   "pygments_lexer": "ipython3",
   "version": "3.13.1"
  }
 },
 "nbformat": 4,
 "nbformat_minor": 4
}
